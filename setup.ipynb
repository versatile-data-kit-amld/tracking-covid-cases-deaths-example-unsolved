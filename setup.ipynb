{
 "cells": [
  {
   "cell_type": "markdown",
   "id": "30aa551e",
   "metadata": {},
   "source": [
    "# Welcome to the Covid Tracking Example!"
   ]
  },
  {
   "cell_type": "markdown",
   "id": "51ca7797",
   "metadata": {},
   "source": [
    "## Workshop Steps"
   ]
  },
  {
   "cell_type": "markdown",
   "id": "1ba646cb",
   "metadata": {},
   "source": [
    "Now that you have opened up the MyBinder environment and are reading this, you are already on the right track! Inside this environment, you will also find:\n",
    "\n",
    "* sample scripts: This is a folder containing the base of the scripts that you will be working with to finish the exercise. Please look for the triple exclamation points (!!!) as that means that you are being asked to write some code to get things to work!\n",
    "* helpers: This contains a script that you may need to put inside your data job's folder prior to executing, if you want to reset the data job's properties. You may want to do such a thing if you want to ingest the entirety of the data again - not recommended.\n",
    "* README.md: This is just the README file you saw on the Github page.\n",
    "* requirements.txt: This is a list of the required libraries that were installed upon startup.\n",
    "* setup.ipynb: The file you are reading right now! Think of this as your home page.\n",
    "* Other system files - postBuild and start: No need to worry about these. They are needed for the setup with our DB."
   ]
  },
  {
   "cell_type": "markdown",
   "id": "51c917e5",
   "metadata": {},
   "source": [
    "## Step 0: Set up SQL Magic"
   ]
  },
  {
   "cell_type": "markdown",
   "id": "b132da13",
   "metadata": {},
   "source": [
    "Let's set up the notebook to work with SQL using the code blocks below:"
   ]
  },
  {
   "cell_type": "code",
   "execution_count": null,
   "id": "840eb332",
   "metadata": {},
   "outputs": [],
   "source": [
    "%config SqlMagic.autocommit=False"
   ]
  },
  {
   "cell_type": "code",
   "execution_count": null,
   "id": "5d1fd947",
   "metadata": {},
   "outputs": [],
   "source": [
    "%load_ext sql"
   ]
  },
  {
   "cell_type": "markdown",
   "id": "1c7aea1d",
   "metadata": {},
   "source": [
    "You can browse the various different tables in the default schema."
   ]
  },
  {
   "cell_type": "code",
   "execution_count": null,
   "id": "ea0a5e20",
   "metadata": {},
   "outputs": [],
   "source": [
    "%sql SHOW TABLES FROM default"
   ]
  },
  {
   "cell_type": "markdown",
   "id": "b7949a87",
   "metadata": {},
   "source": [
    "You can query a table in the following way. Please note that we will want you to name the tables with a suffix containing your last name, your sports team, and your favorite drink. For example, instead of the table being called \"covid_cases_europe_daily\", you need to rename it to something like \"covid_cases_europe_daily_smith_basel_pepsi\"."
   ]
  },
  {
   "cell_type": "markdown",
   "id": "bc66ba65",
   "metadata": {},
   "source": [
    "Using the code cell below, you can run any query against the created tables. Please use the example below:"
   ]
  },
  {
   "cell_type": "code",
   "execution_count": null,
   "id": "e3f7d128",
   "metadata": {},
   "outputs": [],
   "source": [
    "%sql select count(*) from mysql.default.covid_cases_europe_daily"
   ]
  },
  {
   "cell_type": "markdown",
   "id": "f4071d2d",
   "metadata": {},
   "source": [
    "You can also drop tables, but please be very careful with this. Only do it when you are sure you want to delete YOUR OWN table. "
   ]
  },
  {
   "cell_type": "code",
   "execution_count": null,
   "id": "64a8f517",
   "metadata": {},
   "outputs": [],
   "source": [
    "# %sql DROP TABLE mysql.default.covid_cases_europe_daily"
   ]
  },
  {
   "cell_type": "markdown",
   "id": "bc826dab",
   "metadata": {},
   "source": [
    "## Step 1: Explore the List of Data Jobs That Have Been Created on the Cloud"
   ]
  },
  {
   "cell_type": "markdown",
   "id": "db3cfea2",
   "metadata": {},
   "source": [
    "As per the previous examples, let's explore the data jobs that have been created on the cloud. This is good practice because it allows you to be aware of what's going on, but also lets you know not to name your data job in a certain way (because it may already exist!)."
   ]
  },
  {
   "cell_type": "code",
   "execution_count": null,
   "id": "d4419f25",
   "metadata": {},
   "outputs": [],
   "source": [
    "! vdk list"
   ]
  },
  {
   "cell_type": "markdown",
   "id": "dea4bc11",
   "metadata": {},
   "source": [
    "## Step 2: Create a Data Job"
   ]
  },
  {
   "cell_type": "markdown",
   "id": "2d3a926b",
   "metadata": {},
   "source": [
    "Now that we have explored the list of created (on the cloud) data jobs, let's create our own.\n",
    "\n",
    "Keep in mind that we would like to have a sub-folder for the data job,so that our Streamlit script is outside of it and in the main directory."
   ]
  },
  {
   "cell_type": "markdown",
   "id": "c2c749fb",
   "metadata": {},
   "source": [
    "<font color='red'>**ATTENTION!**</font>"
   ]
  },
  {
   "cell_type": "markdown",
   "id": "80af900c",
   "metadata": {},
   "source": [
    "Based on the information above, try creating a data job titled as follows:\n",
    "* tracking-covid, dash (-)\n",
    "* your last name, dash (-)\n",
    "* your favorite sports team, dash (-)\n",
    "* your favorite drink.\n",
    "\n",
    "Please do not use team names and numbers that may be parts of any of your passwords, as the data job names will be visible to all. For example, you can create a data job titled \"covid-tracking-smith-man-united-cola\".\n",
    "\n",
    "You can choose any team name that you want, but please create the job at the home directory. This will create a sub-folder for the data job. The home directory is /home/jovyan.\n",
    "\n",
    "Here's an example code:\n",
    "```\n",
    "! vdk create -n tracking-covid-avramov-man-united-cola -t amld -p /home/jovyan\n",
    "```"
   ]
  },
  {
   "cell_type": "code",
   "execution_count": null,
   "id": "c774e566",
   "metadata": {},
   "outputs": [],
   "source": [
    "# !!! ENTER CODE HERE"
   ]
  },
  {
   "cell_type": "markdown",
   "id": "2ac55d0d",
   "metadata": {},
   "source": [
    "<font color='green'>**GOOD JOB!**</font>"
   ]
  },
  {
   "cell_type": "markdown",
   "id": "8ff57151",
   "metadata": {},
   "source": [
    "You can run the command below to see if your data job will show up. It should! In addition, a folder with your data job's name will show up on the left side of your screen, in the directories section."
   ]
  },
  {
   "cell_type": "code",
   "execution_count": 1,
   "id": "3b944145",
   "metadata": {},
   "outputs": [
    {
     "name": "stdout",
     "output_type": "stream",
     "text": [
      "zsh:1: command not found: vdk\r\n"
     ]
    }
   ],
   "source": [
    "! vdk list"
   ]
  },
  {
   "cell_type": "markdown",
   "id": "0e57c8ee",
   "metadata": {},
   "source": [
    "## Step 3: Work Out the Data Job Template"
   ]
  },
  {
   "cell_type": "markdown",
   "id": "18fafce3",
   "metadata": {},
   "source": [
    "As you already know, when you create a data job, VDK automatically downloads some template scripts and files, so that you can get accustomed to the data job's structure. They are super helpful in getting you ready to run your own data jobs. However, let's go ahead and delete these for our example, since we won't be starting from scratch, but please check them out! Alternatively, you can explore the 'vdk create --no-template' option, if you do not want these templates downloaded. Let's go ahead and delete the following files:\n",
    "\n",
    "- The SQL script: we won't need it.\n",
    "- The sample Python script: we already have some Python scripts ready for you to edit - more on that below.\n",
    "- README.md: We already have a README for the entire example, so we can get rid of this.\n",
    "- requirements.txt: Each data job needs this file if the data job relies on external libraries that VDK does not have. In our case, we will be copying the requirements.txt file that was loaded with MyBinder, so we can delete this template.\n",
    "\n",
    "<font color='red'>**ATTENTION!**</font> \n",
    "\n",
    "As such, please run the code below to delete them.\n",
    "\n",
    "Please change '!!! ENTER DATA JOB NAME HERE' to the name of your data job."
   ]
  },
  {
   "cell_type": "code",
   "execution_count": null,
   "id": "313cfad5",
   "metadata": {},
   "outputs": [],
   "source": [
    "! rm \"!!! ENTER DATA JOB NAME HERE/10_sql_step.sql\"\n",
    "! rm \"!!! ENTER DATA JOB NAME HERE/20_python_step.py\"\n",
    "! rm \"!!! ENTER DATA JOB NAME HERE/README.md\"\n",
    "! rm \"!!! ENTER DATA JOB NAME HERE/requirements.txt\"\n",
    "! rm \"!!! ENTER DATA JOB NAME HERE/config.ini\""
   ]
  },
  {
   "cell_type": "markdown",
   "id": "6147fb7b",
   "metadata": {},
   "source": [
    "<font color='green'>**GOOD JOB!**</font>"
   ]
  },
  {
   "cell_type": "markdown",
   "id": "db6206d8",
   "metadata": {},
   "source": [
    "Now that you have created a data job and gotten rid of the templates, please go inside the subfolder and set up the structure of your data job. Here's the general idea.\n",
    "\n",
    "We want the data job to have six scripts:\n",
    "\n",
    "* Let's have one SQL script that creates the Covid cases data table in our cloud DB.\n",
    "* Let's have one SQL script that creates the Covid deaths data table in our cloud DB.\n",
    "* Let's have one SQL script that creates the Covid cases and deaths clean table in our cloud DB.\n",
    "* Let's have one Python script that creates an API call for the Covid cases data and ingests it into our cloud DB.\n",
    "* Let's have another Python script that creates an API call for the Covid deaths data and ingests it into our cloud DB.\n",
    "* Let's have one Python script that reads both sets of data from the cloud DB, joins them, cleans them, and saves them in a new table in the DB.\n",
    "* Let's also have a config.ini file, which specifies how often the data job will be executed, using cron scheduling. We will want to run this every day at 9:00 UTC time. The remainder of the code is just configuration settings to our DB.\n",
    "* Let's also copy the requirements.txt file, which was loaded upon MyBinder's startup.\n",
    "\n",
    "Each of these scripts are present in the sample scripts subfolder. However, we've added some coding challenges inside of them to make things fun!"
   ]
  },
  {
   "cell_type": "markdown",
   "id": "223b8eab",
   "metadata": {},
   "source": [
    "<font color='red'>**ATTENTION!**</font>\n",
    "\n",
    "Let's move the sample scripts to the data job subfolder. Please run the code cell below, making sure to enter your data job's name instead of the '!!! ENTER NAME HERE'."
   ]
  },
  {
   "cell_type": "code",
   "execution_count": null,
   "id": "73dd202b",
   "metadata": {},
   "outputs": [],
   "source": [
    "! mv \"sample scripts/01_create_covid_cases_europe_daily.sql\" ~/!!! ENTER NAME HERE\n",
    "! mv \"sample scripts/02_create_covid_deaths_europe_daily.sql\" ~/!!! ENTER NAME HERE\n",
    "! mv \"sample scripts/03_create_covid_cases_deaths_europe_daily.sql\" ~/!!! ENTER NAME HERE\n",
    "! mv \"sample scripts/10_ingest_covid_cases_data.py\"  ~/!!! ENTER NAME HERE\n",
    "! mv \"sample scripts/20_ingest_covid_deaths_data.py\"  ~/!!! ENTER NAME HERE\n",
    "! mv \"sample scripts/30_clean_merge_transform.py\"  ~/!!! ENTER NAME HERE\n",
    "! mv \"sample scripts/config.ini\"  ~/!!! ENTER NAME HERE\n",
    "! mv \"sample scripts/requirements.txt\"  ~/!!! ENTER NAME HERE"
   ]
  },
  {
   "cell_type": "markdown",
   "id": "5e2e5fd0",
   "metadata": {},
   "source": [
    "Great! Now you're all set up with the data job:\n",
    "\n",
    "* You have created a data job on the cloud.\n",
    "* You have deleted the template files that you do not need.\n",
    "* You have moved the sample scripts we provided to the data job sub-folder.\n",
    "\n",
    "The next step is to begin working on each script in the data job! Let's do it!"
   ]
  },
  {
   "cell_type": "markdown",
   "id": "375e6e56",
   "metadata": {},
   "source": [
    "## Step 4: Data Job - Define the Covid Cases Table (01_create_covid_cases_europe_daily.sql)"
   ]
  },
  {
   "cell_type": "markdown",
   "id": "92df4323",
   "metadata": {},
   "source": [
    "Before we can begin getting data from the API, we need to first create an empty table in our cloud DB that will house the data. We will begin with an SQL script that creates the Covid cases table."
   ]
  },
  {
   "cell_type": "markdown",
   "id": "b7580840",
   "metadata": {},
   "source": [
    "Please open up 01_create_covid_cases_europe_daily.sql in your data job's subfolder. Inside, you will see that the code is not fully populated. We want YOU to do that!"
   ]
  },
  {
   "cell_type": "markdown",
   "id": "3f3fbeb1",
   "metadata": {},
   "source": [
    "<font color='red'>**ATTENTION!**</font>"
   ]
  },
  {
   "cell_type": "markdown",
   "id": "f735acf9",
   "metadata": {},
   "source": [
    "Please note that the table name is currently not entered. Instead, it is \"!!! ENTER TABLE NAME HERE\". We want you to change that so that the table name is called \"covid_cases_europe_daily\", underscore, your last name, underscore, your favorite sports team, underscore, and your favorite drink. For example: covid_cases_europe_daily_smith_basel_cola."
   ]
  },
  {
   "cell_type": "markdown",
   "id": "b01d9a23",
   "metadata": {},
   "source": [
    "<font color='green'>**GOOD JOB!**</font>"
   ]
  },
  {
   "cell_type": "markdown",
   "id": "411d5b84",
   "metadata": {},
   "source": [
    "Nice! You've created the code for the needed table. Let's move on to the next one!"
   ]
  },
  {
   "cell_type": "markdown",
   "id": "a8fe9600",
   "metadata": {},
   "source": [
    "## Step 5: Data Job - Define the Covid Deaths Table (02_create_covid_deaths_europe_daily.sql)"
   ]
  },
  {
   "cell_type": "markdown",
   "id": "feeb59fe",
   "metadata": {},
   "source": [
    "Please open up 02_create_covid_deaths_europe_daily.sql in your data job's subfolder. Inside, you will see that the code is not fully populated. We want YOU to do that!"
   ]
  },
  {
   "cell_type": "markdown",
   "id": "d4aa5ee0",
   "metadata": {},
   "source": [
    "<font color='red'>**ATTENTION!**</font>"
   ]
  },
  {
   "cell_type": "markdown",
   "id": "d2bd080e",
   "metadata": {},
   "source": [
    "Please note that the table name is currently not entered. Instead, it is \"!!! ENTER TABLE NAME HERE\". We want you to change that so that the table name is called \"covid_deaths_europe_daily\", underscore, your last name, underscore, your favorite sports team, underscore, and your favorite drink. For example: covid_deaths_europe_daily_smith_basel_cola."
   ]
  },
  {
   "cell_type": "markdown",
   "id": "860832b1",
   "metadata": {},
   "source": [
    "In addition, please change the column types to column types that make sense. In other words, country and and obs_date should be VARCHAR, but what should the other be? Hint: Look at the previous script!"
   ]
  },
  {
   "cell_type": "markdown",
   "id": "1ecf80af",
   "metadata": {},
   "source": [
    "<font color='green'>**GOOD JOB!**</font>"
   ]
  },
  {
   "cell_type": "markdown",
   "id": "580a2008",
   "metadata": {},
   "source": [
    "Nice! You've created the code for the needed table. Let's move on to the next one!"
   ]
  },
  {
   "cell_type": "markdown",
   "id": "4d78530b",
   "metadata": {},
   "source": [
    "## Step 6: Data Job - Define the Covid Cases and Deaths Clean Table (03_create_clean_full_table.sql)"
   ]
  },
  {
   "cell_type": "markdown",
   "id": "82c27a94",
   "metadata": {},
   "source": [
    "Please open up 03_create_clean_full_table.sql in your data job's subfolder. Inside, you will see that the code is not fully populated. We want YOU to do that!"
   ]
  },
  {
   "cell_type": "markdown",
   "id": "33eaa032",
   "metadata": {},
   "source": [
    "<font color='red'>**ATTENTION!**</font>"
   ]
  },
  {
   "cell_type": "markdown",
   "id": "15183586",
   "metadata": {},
   "source": [
    "Please find all of the \"!!! ENTER....\" instances and make the needed changes, as you have done in the previous two scripts above. The table name should be something like \"covid_cases_deaths_europe_daily_smith_cola\"."
   ]
  },
  {
   "cell_type": "markdown",
   "id": "5cb6549b",
   "metadata": {},
   "source": [
    "<font color='green'>**GOOD JOB!**</font>"
   ]
  },
  {
   "cell_type": "markdown",
   "id": "d7e7291c",
   "metadata": {},
   "source": [
    "Nice! You've now created the code for all of the needed tables. Let's get ready to ingest some data!"
   ]
  },
  {
   "cell_type": "markdown",
   "id": "17ea33b3",
   "metadata": {},
   "source": [
    "## Step 7: Data Job - Incrementally Ingest Covid Cases Data (10_ingest_covid_cases_data.py)"
   ]
  },
  {
   "cell_type": "markdown",
   "id": "702d1d89",
   "metadata": {},
   "source": [
    "Please open up 10_ingest_covid_cases_data.py. This script will do an API call to ingest the Covid cases data."
   ]
  },
  {
   "cell_type": "markdown",
   "id": "a7d34437",
   "metadata": {},
   "source": [
    "As you are already quite familiar with the way VDK works within Python scripts, the beginning of the script should look familiar. It imports the needed libraries and begins the \"run\" function. "
   ]
  },
  {
   "cell_type": "markdown",
   "id": "dd988b15",
   "metadata": {},
   "source": [
    "From the earlier example, you are already familiar with incremental ingestion. Thus, lines 21 to 30 will look familiar. What you are doing is using job properties so that the script knows how much and what data to ingest. If it is the first time the data job is run, then the job property \"last_date_covid_cases\" will not be there and we will thus set it to the beginning of January 2020 - around the time the Covid tracking data begins. Otherwise, we will ingest only records that are more recent than the \"last_date_covid_cases\". We have added some additional prints to the log, so that we can observe things, in case they fail, or in case we want a more detailed explanation of how our script behaved."
   ]
  },
  {
   "cell_type": "markdown",
   "id": "07a4f1b2",
   "metadata": {},
   "source": [
    "We then create a variable called 'url', which is a string, and contains the url path to the European continent's data on Covid cases."
   ]
  },
  {
   "cell_type": "markdown",
   "id": "88fef43a",
   "metadata": {},
   "source": [
    "Lines 35 to 39 perform a GET request to the API and raise the status of the request: success or failure."
   ]
  },
  {
   "cell_type": "markdown",
   "id": "a84a5758",
   "metadata": {},
   "source": [
    "We then store that response in a variable titled 'r' and create a country list of the prior randomly selected European countries."
   ]
  },
  {
   "cell_type": "markdown",
   "id": "403e79b8",
   "metadata": {},
   "source": [
    "We will want to loop over each of those countries, get the API's response, and store it in a data frame. We will want to append each of those countries' dataframes. To do so, we begin by creating an empty data frame to house the data in lines 53 to 59."
   ]
  },
  {
   "cell_type": "markdown",
   "id": "45860eaf",
   "metadata": {},
   "source": [
    "In lines 61 to 80, we iterate through each country in the country list, where we extract the API's response, store that in a data frame, and append the dataframe to the originally empty data frame. Think of as an empty bucket. You then go from tree to tree and throw each tree's apples into that bucket - layer by layer."
   ]
  },
  {
   "cell_type": "markdown",
   "id": "09004842",
   "metadata": {},
   "source": [
    "We then limit the data frame to only records where the observed date is more recent than the \"last_date_covid_cases\" job property. In other words, we are saying \"keep only the records that are new to the data job\" based on the observed date column."
   ]
  },
  {
   "cell_type": "markdown",
   "id": "74dfacf5",
   "metadata": {},
   "source": [
    "If there are any rows left, we want to import those to the DB. Here's where YOU need to make some changes!"
   ]
  },
  {
   "cell_type": "markdown",
   "id": "a4dddc7a",
   "metadata": {},
   "source": [
    "<font color='red'>**ATTENTION!**</font>"
   ]
  },
  {
   "cell_type": "markdown",
   "id": "e3229548",
   "metadata": {},
   "source": [
    "Find the line in the script that starts with \"if len(df_cases) > \" and change the '!!! ENTER VALUE HERE' to a value that makes sense!"
   ]
  },
  {
   "cell_type": "markdown",
   "id": "cb0cccf8",
   "metadata": {},
   "source": [
    "<font color='green'>**GOOD JOB!**</font>"
   ]
  },
  {
   "cell_type": "markdown",
   "id": "d526707f",
   "metadata": {},
   "source": [
    "<font color='red'>**ATTENTION!**</font>"
   ]
  },
  {
   "cell_type": "markdown",
   "id": "403fe743",
   "metadata": {},
   "source": [
    "Now, we want YOU to do one more thing! Please change the \"destination_table\" value in line 95 to the name of the table you specified in the 01_create_covid_cases_europe_daily.sql script. "
   ]
  },
  {
   "cell_type": "markdown",
   "id": "7c18f11b",
   "metadata": {},
   "source": [
    "Please change the '!!! ENTER NAME HERE' to the table name."
   ]
  },
  {
   "cell_type": "markdown",
   "id": "fc2278c9",
   "metadata": {},
   "source": [
    "<font color='green'>**GOOD JOB!**</font>"
   ]
  },
  {
   "cell_type": "markdown",
   "id": "f03c1a44",
   "metadata": {},
   "source": [
    "Lastly, we will set the \"last_date_covid_cases\" job property to the maximum observed date in the table. Neat, huh?"
   ]
  },
  {
   "cell_type": "markdown",
   "id": "7c9a11e9",
   "metadata": {},
   "source": [
    "Congratulations! You've set up the code to ingest the Covid cases data. Let's now set up the Covid deaths data in the same manner!"
   ]
  },
  {
   "cell_type": "markdown",
   "id": "d242362f",
   "metadata": {},
   "source": [
    "## Step 8: Data Job - Incrementally Ingest Covid Deaths Data  (20_ingest_covid_deaths_data.py)"
   ]
  },
  {
   "cell_type": "markdown",
   "id": "8834e2bb",
   "metadata": {},
   "source": [
    "If you followed all of the steps in the section above, this should look super familiar. The code is more or less the same, except that we are now making an API call to the deaths data, not the cases data. We will also be using the \"last_date_covid_deaths\" job property, instead of the \"last_date_covid_cases\" job property, to properly set up the incremental ingestion for this table, as well."
   ]
  },
  {
   "cell_type": "markdown",
   "id": "68c58b2d",
   "metadata": {},
   "source": [
    "<font color='red'>**ATTENTION!**</font>"
   ]
  },
  {
   "cell_type": "markdown",
   "id": "b67ed422",
   "metadata": {},
   "source": [
    "Find the line in the script that starts with \"if len(df_deaths) > \" and change the '!!! ENTER VALUE HERE' to a value that makes sense!"
   ]
  },
  {
   "cell_type": "markdown",
   "id": "5ed128eb",
   "metadata": {},
   "source": [
    "<font color='green'>**GOOD JOB!**</font>"
   ]
  },
  {
   "cell_type": "markdown",
   "id": "12cb43d0",
   "metadata": {},
   "source": [
    "<font color='red'>**ATTENTION!**</font>"
   ]
  },
  {
   "cell_type": "markdown",
   "id": "bc814083",
   "metadata": {},
   "source": [
    "Now, we want YOU to do one more thing! Please change the \"destination_table\" value in line 94 to the name of the table you specified in the 02_create_covid_deaths_europe_daily.sql script."
   ]
  },
  {
   "cell_type": "markdown",
   "id": "51cfe136",
   "metadata": {},
   "source": [
    "Please change the '!!! ENTER NAME HERE' to the table name."
   ]
  },
  {
   "cell_type": "markdown",
   "id": "859ff4c6",
   "metadata": {},
   "source": [
    "<font color='green'>**GOOD JOB!**</font>"
   ]
  },
  {
   "cell_type": "markdown",
   "id": "e16af316",
   "metadata": {},
   "source": [
    "Lastly, we will set the \"last_date_covid_deaths\" job property to the maximum observed date in the table."
   ]
  },
  {
   "cell_type": "markdown",
   "id": "7b5a5f7e",
   "metadata": {},
   "source": [
    "Congratulations! You've set up the code to ingest the Covid deaths data. Now, let's combine this data and change it the cases and deaths from an accumulative number to a daily number!"
   ]
  },
  {
   "cell_type": "markdown",
   "id": "ec888506",
   "metadata": {},
   "source": [
    "## Step 9: Data Job - Incrementally Build Covid Cases and Deaths Clean Data (30_clean_merge_transform.py)"
   ]
  },
  {
   "cell_type": "markdown",
   "id": "7bf7680e",
   "metadata": {},
   "source": [
    "The beginning of this script should look very similar to the those above. We begin by creating or retrieving the data job property that stores the lastest ingested date for this part of the data job."
   ]
  },
  {
   "cell_type": "markdown",
   "id": "5210bf1a",
   "metadata": {},
   "source": [
    "Lines 34 to 46 read the Covid cases data from the cloud DB and transform it to a data frame. We select only those records that are more recent than the \"last_date_cases_deaths\" job property."
   ]
  },
  {
   "cell_type": "markdown",
   "id": "4a63ed0b",
   "metadata": {},
   "source": [
    "<font color='red'>**ATTENTION!**</font>"
   ]
  },
  {
   "cell_type": "markdown",
   "id": "b407bd9e",
   "metadata": {},
   "source": [
    "Please change the Covid cases query to source from your table, by replacing \"!!! ENTER NAME HERE\" to the Covid cases table name you specified."
   ]
  },
  {
   "cell_type": "markdown",
   "id": "4400f48c",
   "metadata": {},
   "source": [
    "<font color='green'>**GOOD JOB!**</font>"
   ]
  },
  {
   "cell_type": "markdown",
   "id": "b76f4955",
   "metadata": {},
   "source": [
    "Lines 48 to 60 perform the same thing for the Covid deaths data."
   ]
  },
  {
   "cell_type": "markdown",
   "id": "abc69f8e",
   "metadata": {},
   "source": [
    "<font color='red'>**ATTENTION!**</font>"
   ]
  },
  {
   "cell_type": "markdown",
   "id": "2073df9e",
   "metadata": {},
   "source": [
    "Please change the Covid deaths query to source from your table, by replacing \"!!! ENTER NAME HERE\" to the Covid cases table name you specified."
   ]
  },
  {
   "cell_type": "markdown",
   "id": "a6d1f2b2",
   "metadata": {},
   "source": [
    "<font color='green'>**GOOD JOB!**</font>"
   ]
  },
  {
   "cell_type": "markdown",
   "id": "b42596e2",
   "metadata": {},
   "source": [
    "Because we've specified the countries in both tables, we can safely merge on the country and the observed date, giving us a combined data frame containing the date, the country, the number of cumulative cases, and the number of cumulative deaths."
   ]
  },
  {
   "cell_type": "markdown",
   "id": "f25c2ada",
   "metadata": {},
   "source": [
    "We then sort the data by country and by the date, which we convert to a datetime object."
   ]
  },
  {
   "cell_type": "markdown",
   "id": "6874ef49",
   "metadata": {},
   "source": [
    "We then want to check if there is already data in the covid_cases_deaths_europe_daily table. If there is, we need to ingest the last date's cumulative figures for cases and deaths and use that as an index for the change of numbers from day to day. In other words, if I know Greece has 2,000,000 cumulative cases as of today, I will need yesterday's cumulative cases to know how many cases are new today. If they are, 1,999,999, then I know I have one new case today."
   ]
  },
  {
   "cell_type": "markdown",
   "id": "24624fd8",
   "metadata": {},
   "source": [
    "If there is no data yet in the table, then we don't have to worry about this, as we will already have the start of the data in the df_cases_deaths data frame."
   ]
  },
  {
   "cell_type": "markdown",
   "id": "dde20147",
   "metadata": {},
   "source": [
    "<font color='red'>**ATTENTION!**</font>"
   ]
  },
  {
   "cell_type": "markdown",
   "id": "017a4236",
   "metadata": {},
   "source": [
    "Please change the prev_day_df variable to be sourced from a query that reads from YOUR Covid cases and deaths tables, by replacing \"!!! ENTER NAME HERE\" with the name of your respective tables."
   ]
  },
  {
   "cell_type": "markdown",
   "id": "b106670a",
   "metadata": {},
   "source": [
    "<font color='green'>**GOOD JOB!**</font>"
   ]
  },
  {
   "cell_type": "markdown",
   "id": "c18e6847",
   "metadata": {},
   "source": [
    "From line 107 forward, we check if there is previous data in the table. If so, we append the last ingested day's data to the newly ingested data. We sort by country and date and take the difference in cases and deaths between the last day's ingested data and the first day of the newly ingested data."
   ]
  },
  {
   "cell_type": "markdown",
   "id": "7f479bd3",
   "metadata": {},
   "source": [
    "If there is no data in the table, then we again sort by country and date and take the difference as explained above between each day. The difference in this case is that at some point in our data, we will hit a different country. Thus, we need to nulify cases where the observed date is the beginning of the data - i.e. January 22, 2020. "
   ]
  },
  {
   "cell_type": "markdown",
   "id": "b110e747",
   "metadata": {},
   "source": [
    "We then take only the rows that are later than the \"last_date_cases_deaths\" job property."
   ]
  },
  {
   "cell_type": "markdown",
   "id": "4c5e184c",
   "metadata": {},
   "source": [
    "Lines 145 to 161 just make some slight modifications to the table, such as changing the column types and keeping only the columns we are interested in."
   ]
  },
  {
   "cell_type": "markdown",
   "id": "0d902c05",
   "metadata": {},
   "source": [
    "<font color='red'>**ATTENTION!**</font>"
   ]
  },
  {
   "cell_type": "markdown",
   "id": "ccd95f96",
   "metadata": {},
   "source": [
    "Please go to line 169, and change the destination_table string to be equal to the name of your table, as specified in 03_create_clean_full_table.sql."
   ]
  },
  {
   "cell_type": "markdown",
   "id": "03ec9700",
   "metadata": {},
   "source": [
    "<font color='green'>**GOOD JOB!**</font>"
   ]
  },
  {
   "cell_type": "markdown",
   "id": "810e7b93",
   "metadata": {},
   "source": [
    "Lastly, we will set the \"last_date_cases_deaths\" job property to the maximum observed date in the table."
   ]
  },
  {
   "cell_type": "markdown",
   "id": "2a31466e",
   "metadata": {},
   "source": [
    "Congratulations! You've set up the code to join the Covid cases and Covid deaths data. In addition, we've changed the cases and deaths counts columns to be daily new cases and deaths, as opposed to accumulative numbers."
   ]
  },
  {
   "cell_type": "markdown",
   "id": "ccb95c9f",
   "metadata": {},
   "source": [
    "Now, let's deploy the job to the cloud and schedule its daily execution!"
   ]
  },
  {
   "cell_type": "markdown",
   "id": "c6495cd9",
   "metadata": {},
   "source": [
    "## Step 10: Deploy the Job to the Cloud"
   ]
  },
  {
   "cell_type": "markdown",
   "id": "c789f518",
   "metadata": {},
   "source": [
    "<font color='red'>**ATTENTION!**</font>"
   ]
  },
  {
   "cell_type": "markdown",
   "id": "9bf825c2",
   "metadata": {},
   "source": [
    "Please navigate to the config.ini file in your data job's subfolder. Or, if preffered, just run the cell below, but change the filepath to the name of your data job first! You may have to put the entire thing (after ! cat) in quotes."
   ]
  },
  {
   "cell_type": "code",
   "execution_count": null,
   "id": "5d817ef1",
   "metadata": {},
   "outputs": [],
   "source": [
    "! cat !!! ENTER DATA JOB NAME HERE/config.ini"
   ]
  },
  {
   "cell_type": "markdown",
   "id": "bc99a6df",
   "metadata": {},
   "source": [
    "<font color='green'>**GOOD JOB!**</font>"
   ]
  },
  {
   "cell_type": "markdown",
   "id": "3f009d7c",
   "metadata": {},
   "source": [
    "You can check out how to set your cron scheduling, using cron translators such as [this](https://crontab.guru/)."
   ]
  },
  {
   "cell_type": "markdown",
   "id": "c3278818",
   "metadata": {},
   "source": [
    "In our case, the scheduling is done in UTC timezone and will run every day at 9:00 UTC."
   ]
  },
  {
   "cell_type": "markdown",
   "id": "5ff68bec",
   "metadata": {},
   "source": [
    "<font color='red'>**ATTENTION!**</font>"
   ]
  },
  {
   "cell_type": "markdown",
   "id": "99a8fdd3",
   "metadata": {},
   "source": [
    "Let's now deploy the data job! Please run the code below, but first change the \"!!! ENTER NAME HERE\" to the name of your data job. Please note that you will have to do this in two places in the cell block below."
   ]
  },
  {
   "cell_type": "code",
   "execution_count": null,
   "id": "ad883987",
   "metadata": {},
   "outputs": [],
   "source": [
    "! vdk deploy -n !!! ENTER NAME HERE -r \"Initial deploy\" -p /home/jovyan/!!! ENTER NAME HERE"
   ]
  },
  {
   "cell_type": "markdown",
   "id": "be1e246d",
   "metadata": {},
   "source": [
    "<font color='green'>**GOOD JOB!**</font>"
   ]
  },
  {
   "cell_type": "markdown",
   "id": "3633403c",
   "metadata": {},
   "source": [
    "You can see your deployment status by running the code below. Please change the \"!!! ENTER NAME HERE\" to the name of your data job. You may also need to change the team name (from amld to whatever), if you created the data job with a different team name."
   ]
  },
  {
   "cell_type": "code",
   "execution_count": null,
   "id": "6032702e",
   "metadata": {},
   "outputs": [],
   "source": [
    "! vdk deploy --show -t amld -n !!! ENTER NAME HERE"
   ]
  },
  {
   "cell_type": "markdown",
   "id": "ea8f0f40",
   "metadata": {},
   "source": [
    "Let's see if the status of your data job has now changed! It should have!"
   ]
  },
  {
   "cell_type": "code",
   "execution_count": null,
   "id": "5fb18379",
   "metadata": {},
   "outputs": [],
   "source": [
    "! vdk list"
   ]
  },
  {
   "cell_type": "markdown",
   "id": "3bb7dd54",
   "metadata": {},
   "source": [
    "Congratulations! You have deployed your data job! Let's now build the Streamlit dashboard!"
   ]
  },
  {
   "cell_type": "markdown",
   "id": "fac2b06f",
   "metadata": {},
   "source": [
    "## Step 11: Building an Interactive Streamlit Dashboard (build_streamlit_dashboard.py)"
   ]
  },
  {
   "cell_type": "markdown",
   "id": "93d948c7",
   "metadata": {},
   "source": [
    "<font color='red'>**ATTENTION!**</font>"
   ]
  },
  {
   "cell_type": "markdown",
   "id": "90a76179",
   "metadata": {},
   "source": [
    "Let's create the interactive Streamlit dashboard! First, let's move the started code from the sample scripts and into our main directory."
   ]
  },
  {
   "cell_type": "markdown",
   "id": "16b3771f",
   "metadata": {},
   "source": [
    "! mv \"sample scripts/build_streamlit_dashboard.py\"  ~"
   ]
  },
  {
   "cell_type": "markdown",
   "id": "9a498d40",
   "metadata": {},
   "source": [
    "<font color='green'>**GOOD JOB!**</font>"
   ]
  },
  {
   "cell_type": "markdown",
   "id": "e46806f5",
   "metadata": {},
   "source": [
    "Now, let's open it up. The first few lines import all the necessary libraries and make the connection to the Trino Cloud DB."
   ]
  },
  {
   "cell_type": "markdown",
   "id": "66e16835",
   "metadata": {},
   "source": [
    "<font color='red'>**ATTENTION!**</font>"
   ]
  },
  {
   "cell_type": "markdown",
   "id": "31d52e8e",
   "metadata": {},
   "source": [
    "Let's now fetch the data from the cases and deaths clean table. Please change the \"!!! ENTER TABLE NAME HERE\" to the name of your cases and deaths clean table on line 31."
   ]
  },
  {
   "cell_type": "markdown",
   "id": "e03a9332",
   "metadata": {},
   "source": [
    "<font color='green'>**GOOD JOB!**</font>"
   ]
  },
  {
   "cell_type": "markdown",
   "id": "275d6c08",
   "metadata": {},
   "source": [
    "We want to have a few sections:\n",
    "* A section for the current daily cases and deaths by country, allowing the user to select the country they are interested in\n",
    "* A monthly section, where we present the total number of cases and deaths per country for a month that the user has selected\n",
    "* A custom time range of dates, where we present the total number of cases and deaths per country for a time period that the user specifies via a slider functionality. We will also present the raw data frame for that user's desired time range\n",
    "\n",
    "Let's do it!"
   ]
  },
  {
   "cell_type": "markdown",
   "id": "6a0bc5ef",
   "metadata": {},
   "source": [
    "#### Section 1: Current Day's Figures"
   ]
  },
  {
   "cell_type": "markdown",
   "id": "48d16f12",
   "metadata": {},
   "source": [
    "Lines 50 to 62 set up the code to allow the user to pick a country. This pick is stored in the variable 'ctry'."
   ]
  },
  {
   "cell_type": "markdown",
   "id": "e1eac918",
   "metadata": {},
   "source": [
    "Lines 64 to 83 then perform the needed data manipulations to option the necessary metrics to present. We use the variable 'ctry' to limit the data to the user's desired country."
   ]
  },
  {
   "cell_type": "markdown",
   "id": "38eb4ff1",
   "metadata": {},
   "source": [
    "And we're done with this section that easily!"
   ]
  },
  {
   "cell_type": "markdown",
   "id": "61186026",
   "metadata": {},
   "source": [
    "#### Section 2: Selected Month's Figures"
   ]
  },
  {
   "cell_type": "markdown",
   "id": "8424b2b6",
   "metadata": {},
   "source": [
    "Lines 87 to 109 allow the user to select a year and a month."
   ]
  },
  {
   "cell_type": "markdown",
   "id": "1592faa0",
   "metadata": {},
   "source": [
    "We then take the concatenation of those two to limit our data to that year-month combination and present the figures."
   ]
  },
  {
   "cell_type": "markdown",
   "id": "8d2a3807",
   "metadata": {},
   "source": [
    "#### Section 3: Custom Time Range"
   ]
  },
  {
   "cell_type": "markdown",
   "id": "c12376f6",
   "metadata": {},
   "source": [
    "Lines 159 to 174 allow the user to pick the time range they are interested via a slider."
   ]
  },
  {
   "cell_type": "markdown",
   "id": "67f6401e",
   "metadata": {},
   "source": [
    "We then use those min and max dates and limit the data, as needed."
   ]
  },
  {
   "cell_type": "markdown",
   "id": "36fa8baf",
   "metadata": {},
   "source": [
    "Lastly, we present the metrics, but also the entire data frame."
   ]
  },
  {
   "cell_type": "markdown",
   "id": "4049cd37",
   "metadata": {},
   "source": [
    "... and we're done! That easy!"
   ]
  },
  {
   "cell_type": "markdown",
   "id": "3bf868fa",
   "metadata": {},
   "source": [
    "All that is left to do is to run the Streamlit dashboard using the code below!"
   ]
  },
  {
   "cell_type": "code",
   "execution_count": null,
   "id": "4bb78b4d",
   "metadata": {},
   "outputs": [],
   "source": [
    "! streamlit run build_streamlit_dashboard.py\n",
    "# add \"/proxy/8501/\" to the URL to go to the Streamlit Web App\n",
    "# This will block the page until you click Interrupt the Kernel"
   ]
  },
  {
   "cell_type": "markdown",
   "id": "50a84b25",
   "metadata": {},
   "source": [
    "Congratulations!"
   ]
  }
 ],
 "metadata": {
  "kernelspec": {
   "display_name": "Python 3",
   "language": "python",
   "name": "python3"
  },
  "language_info": {
   "codemirror_mode": {
    "name": "ipython",
    "version": 3
   },
   "file_extension": ".py",
   "mimetype": "text/x-python",
   "name": "python",
   "nbconvert_exporter": "python",
   "pygments_lexer": "ipython3",
   "version": "3.7.10"
  }
 },
 "nbformat": 4,
 "nbformat_minor": 5
}
